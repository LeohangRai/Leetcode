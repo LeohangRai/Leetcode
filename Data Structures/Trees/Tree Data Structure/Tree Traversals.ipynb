{
 "cells": [
  {
   "cell_type": "code",
   "execution_count": 1,
   "id": "66893604",
   "metadata": {},
   "outputs": [],
   "source": [
    "class Node:\n",
    "    def __init__(self, data):\n",
    "        self.data = data\n",
    "        self.left = None\n",
    "        self.right = None\n",
    "        \n",
    "  \n",
    "# Manually creating a Binary Tree \n",
    "#        A \n",
    "#       / \\\n",
    "#     /     \\\n",
    "#   B        C\n",
    "#  / \\      / \\\n",
    "# D   E    F   G\n",
    "        \n",
    "root = Node(\"A\")\n",
    "root.left = Node(\"B\")\n",
    "root.right = Node(\"C\")\n",
    "root.left.left = Node(\"D\")\n",
    "root.left.right = Node(\"E\")\n",
    "root.right.left = Node(\"F\")\n",
    "root.right.right = Node(\"G\")\n",
    "\n"
   ]
  },
  {
   "cell_type": "markdown",
   "id": "d8e681d7",
   "metadata": {},
   "source": [
    "### 1. Pre-order Traversal\n"
   ]
  },
  {
   "cell_type": "code",
   "execution_count": 2,
   "id": "a6a954e6",
   "metadata": {},
   "outputs": [
    {
     "name": "stdout",
     "output_type": "stream",
     "text": [
      "A-->B-->D-->E-->C-->F-->G-->"
     ]
    }
   ],
   "source": [
    "def preOrderTraversal(root):\n",
    "    if root is not None:\n",
    "        print(root.data, end = '-->')\n",
    "        preOrderTraversal(root.left)\n",
    "        preOrderTraversal(root.right)\n",
    "        \n",
    "preOrderTraversal(root)"
   ]
  },
  {
   "cell_type": "code",
   "execution_count": null,
   "id": "f3807506",
   "metadata": {},
   "outputs": [],
   "source": []
  },
  {
   "cell_type": "markdown",
   "id": "376f0ecc",
   "metadata": {},
   "source": [
    "### 2. In-order Traversal"
   ]
  },
  {
   "cell_type": "code",
   "execution_count": 3,
   "id": "efa68d7b",
   "metadata": {},
   "outputs": [
    {
     "name": "stdout",
     "output_type": "stream",
     "text": [
      "D-->B-->E-->A-->F-->C-->G-->"
     ]
    }
   ],
   "source": [
    "def inOrderTraversal(root):\n",
    "    if root is not None:\n",
    "        inOrderTraversal(root.left)\n",
    "        print(root.data, end = '-->')\n",
    "        inOrderTraversal(root.right)\n",
    "        \n",
    "inOrderTraversal(root)"
   ]
  },
  {
   "cell_type": "code",
   "execution_count": null,
   "id": "2157a9a0",
   "metadata": {},
   "outputs": [],
   "source": []
  },
  {
   "cell_type": "markdown",
   "id": "153a94c1",
   "metadata": {},
   "source": [
    "### 3. Post-order Traversal"
   ]
  },
  {
   "cell_type": "code",
   "execution_count": 4,
   "id": "d529c294",
   "metadata": {},
   "outputs": [
    {
     "name": "stdout",
     "output_type": "stream",
     "text": [
      "D-->E-->B-->F-->G-->C-->A-->"
     ]
    }
   ],
   "source": [
    "def postOrderTraversal(root):\n",
    "    if root is not None:\n",
    "        postOrderTraversal(root.left)\n",
    "        postOrderTraversal(root.right)\n",
    "        print(root.data, end = '-->')\n",
    "        \n",
    "postOrderTraversal(root)"
   ]
  },
  {
   "cell_type": "code",
   "execution_count": null,
   "id": "03ef95c4",
   "metadata": {},
   "outputs": [],
   "source": []
  },
  {
   "cell_type": "markdown",
   "id": "5bbae5d4",
   "metadata": {},
   "source": [
    "### 4. Level-order Traversal"
   ]
  },
  {
   "cell_type": "code",
   "execution_count": 5,
   "id": "ca7fb088",
   "metadata": {},
   "outputs": [
    {
     "name": "stdout",
     "output_type": "stream",
     "text": [
      "A-->B-->C-->D-->E-->F-->G-->"
     ]
    }
   ],
   "source": [
    "def levelOrderTraversal(root):\n",
    "    queue = []\n",
    "    queue.append(root)\n",
    "    while len(queue) != 0:\n",
    "        parent = queue.pop(0) # dequeue\n",
    "        print(parent.data, end = '-->')\n",
    "        if(parent.left):\n",
    "            queue.append(parent.left) # enqueue left child\n",
    "        if(parent.right):\n",
    "            queue.append(parent.right)  # enqueue right child\n",
    "        \n",
    "levelOrderTraversal(root)            "
   ]
  }
 ],
 "metadata": {
  "kernelspec": {
   "display_name": "Python 3",
   "language": "python",
   "name": "python3"
  },
  "language_info": {
   "codemirror_mode": {
    "name": "ipython",
    "version": 3
   },
   "file_extension": ".py",
   "mimetype": "text/x-python",
   "name": "python",
   "nbconvert_exporter": "python",
   "pygments_lexer": "ipython3",
   "version": "3.6.9"
  }
 },
 "nbformat": 4,
 "nbformat_minor": 5
}
