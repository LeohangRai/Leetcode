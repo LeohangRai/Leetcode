{
 "cells": [
  {
   "cell_type": "markdown",
   "metadata": {},
   "source": [
    "# Binary Search Tree (Python Implementation)"
   ]
  },
  {
   "cell_type": "code",
   "execution_count": 68,
   "metadata": {},
   "outputs": [
    {
     "name": "stdout",
     "output_type": "stream",
     "text": [
      "0 1 6 9 23 \n",
      "False\n",
      "True\n"
     ]
    }
   ],
   "source": [
    "class Node():\n",
    "    def __init__(self, data):\n",
    "        self.data = data\n",
    "        self.left = None\n",
    "        self.right = None\n",
    "\n",
    "class BST():\n",
    "    def __init__(self, root):\n",
    "        self.root = Node(root)\n",
    "        \n",
    "    #We are isolating the task in inserter instead of doing it here in insert\n",
    "    #Because if we did so, we wouldn't be able to recursively call the next root\n",
    "    #It would only take the self.root.i.e. the main root of the tree\n",
    "    \n",
    "    def insert(self, new_node):\n",
    "        '''Uses the inserter recursive function'''\n",
    "        self.__inserter(self.root, new_node)\n",
    "        \n",
    "        \n",
    "    #Made this function private so that it cannot be used by the user as a direct call    \n",
    "    def __inserter(self, root, new_node):\n",
    "        '''The whole function runs recursively going into the right direction or left direction\n",
    "        until it finds the appropriate position for the new node to be at. i.e. the place where\n",
    "        there is no left/right subtree depending upon whether the new node is lower/higher than the\n",
    "        current node it has reached recursively. At this stage, the current node will have become the \n",
    "        root for the subtree but with no other child node at all.\n",
    "        '''\n",
    "        #If the given node value is higher than the root then we have to go to the right direction\n",
    "        #First the main root and then the subsequent roots (roots of the subtrees)\n",
    "        if new_node > root.data:\n",
    "            if root.right:\n",
    "                self.__inserter(root.right, new_node)\n",
    "            else:\n",
    "                root.right = Node(new_node)\n",
    "        #If the given node is not higher than the root then we have to go to the left direction        \n",
    "        else: #if new_node < root.data:\n",
    "            if root.left:\n",
    "                self.__inserter(root.left, new_node)\n",
    "            else:\n",
    "                root.left = Node(new_node)\n",
    "        \n",
    "    #This function will call the inorder_print() fn indirectly \n",
    "    #The inorder_print() fn runs recursively \n",
    "    def print_tree(self):\n",
    "        '''calls the inorder_print() function which will return the nodes of a binary search tree in sorted arrangement'''\n",
    "        return self.__inorder_print(self.root, \"\")\n",
    "    \n",
    "    #Made this function private so that it cannot be used by users directly\n",
    "    def __inorder_print(self, root, printing):\n",
    "        if root:\n",
    "            printing = self.__inorder_print(root.left, printing)\n",
    "            printing += (str(root.data) + \" \")\n",
    "            printing = self.__inorder_print(root.right, printing)\n",
    "        return printing\n",
    "    \n",
    "    \n",
    "    \n",
    "    def search(self, given):\n",
    "        '''returns True if the given value exists in the BST otherwise returns False.\n",
    "        Makes use of the __searcher() method which calls itself recursively to find if the given value exists in the BST \n",
    "        or not\n",
    "        '''\n",
    "        return self.__searcher(self.root, given)\n",
    "    \n",
    "    def __searcher(self, root, given):\n",
    "        if root:\n",
    "            if given == root.data:\n",
    "                return True\n",
    "            elif given > root.data:\n",
    "                return self.__searcher(root.right, given)\n",
    "            elif given < root.data:\n",
    "                return self.__searcher(root.left, given)\n",
    "            else:\n",
    "                return False\n",
    "        else:\n",
    "            return False\n",
    " \n",
    "\n",
    "tr = BST(6)\n",
    "tr.insert(1)\n",
    "tr.insert(23)\n",
    "tr.insert(9)\n",
    "tr.insert(0)\n",
    "print(tr.print_tree())\n",
    "print(tr.search(4))\n",
    "print(tr.search(6))"
   ]
  },
  {
   "cell_type": "code",
   "execution_count": 52,
   "metadata": {},
   "outputs": [
    {
     "name": "stdout",
     "output_type": "stream",
     "text": [
      "1\n"
     ]
    }
   ],
   "source": [
    "print(1)"
   ]
  }
 ],
 "metadata": {
  "kernelspec": {
   "display_name": "Python 3",
   "language": "python",
   "name": "python3"
  },
  "language_info": {
   "codemirror_mode": {
    "name": "ipython",
    "version": 3
   },
   "file_extension": ".py",
   "mimetype": "text/x-python",
   "name": "python",
   "nbconvert_exporter": "python",
   "pygments_lexer": "ipython3",
   "version": "3.7.3"
  }
 },
 "nbformat": 4,
 "nbformat_minor": 4
}
