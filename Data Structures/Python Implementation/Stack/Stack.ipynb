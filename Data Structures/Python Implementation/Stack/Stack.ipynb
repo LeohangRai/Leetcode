{
 "cells": [
  {
   "cell_type": "markdown",
   "metadata": {},
   "source": [
    "## Implementation of Stack in Python"
   ]
  },
  {
   "cell_type": "code",
   "execution_count": 25,
   "metadata": {},
   "outputs": [
    {
     "name": "stdout",
     "output_type": "stream",
     "text": [
      "[1, 2, 'a']\n",
      "a\n",
      "False\n"
     ]
    }
   ],
   "source": [
    "class Stack():\n",
    "    def __init__(self):\n",
    "        self.items = []\n",
    "        \n",
    "    def push(self, new_item):\n",
    "        self.items.append(new_item)\n",
    "    \n",
    "    def pop(self):\n",
    "        return self.items.pop()\n",
    "    \n",
    "    def is_empty(self):\n",
    "        return self.items == []\n",
    "    \n",
    "    #top/peek function to return the top element of the stack\n",
    "    def peek(self):\n",
    "        if not self.is_empty():\n",
    "            return self.items[-1]\n",
    "    \n",
    "    def __str__(self):\n",
    "        return str(self.items)\n",
    "    \n",
    "\n",
    "#Test\n",
    "my_stack = Stack() \n",
    "my_stack.push(1)\n",
    "my_stack.push(2,)\n",
    "my_stack.push('a')\n",
    "my_stack.push('b')\n",
    "my_stack.pop()\n",
    "print(my_stack)\n",
    "print(my_stack.peek())\n",
    "print(my_stack.is_empty())"
   ]
  },
  {
   "cell_type": "code",
   "execution_count": null,
   "metadata": {},
   "outputs": [],
   "source": []
  },
  {
   "cell_type": "code",
   "execution_count": null,
   "metadata": {},
   "outputs": [],
   "source": []
  },
  {
   "cell_type": "markdown",
   "metadata": {},
   "source": [
    "## 1. Example use of Stack (Paranthesis balance checking)\n",
    "Use a stack to check whether or not a string has balanced usage of paranthesis.\n",
    "<PRE>\n",
    "Example:\n",
    "    (), ()(), (({[]}))  --> Balanced.\n",
    "    ((), {{{)}], [][]]] --> Not Balanced.\n",
    "    \n",
    "    \n",
    "Balanced Example: {[]}\n",
    "Non-Balanced Example: (()\n",
    "Non-Balanced Example: ))\n",
    "    \n",
    "NOTE:\n",
    "    I think this problem can be solved by using a list object instead of a Stack as well."
   ]
  },
  {
   "cell_type": "markdown",
   "metadata": {},
   "source": [
    "### Solution (Logic behind it)\n",
    "<PRE>\n",
    "We are going to loop through the string and if we find any opening paranthesis, we push it into the stack. \n",
    "If we find a closing paranthesis we pop the last element (last opening bracket) from the stack and see if they match or not (as a pair).\n",
    "    \n",
    "At the end of the whole process (loop), if the stack is empty, it means that the brackets are properly balanced.\n",
    "    \n",
    "#A specific situation:\n",
    "    Sometimes the string may start from a closing bracket like )}. In this kind of situation, the stack is empty so we cannot pop(), so we need to consider this situation in our code. \n",
    "\n",
    "#Purpose of is_balanced Boolean flag:    \n",
    "To tackle the above proplem, we make use of a boolean flag named is_balanced which we initially set to True.\n",
    "The is_balanced Boolean flag serves the following purposes:    \n",
    "After finding a closing bracket in the string, we pop the opening_brackets_stack:\n",
    "1. In case we find that the stack is empty, meaning a closing bracket came before an opening one, we set the is_balanced flag to False\n",
    "2. If the popped opening_brackes_stack element does not match (pair up) with the closing bracket, we set the is_balanced flag to False"
   ]
  },
  {
   "cell_type": "code",
   "execution_count": 44,
   "metadata": {},
   "outputs": [
    {
     "name": "stdout",
     "output_type": "stream",
     "text": [
      "True\n",
      "False\n",
      "True\n",
      "False\n"
     ]
    }
   ],
   "source": [
    "#import stack\n",
    "#if the stack class was implemented on a different py file\n",
    "\n",
    "\n",
    "#This is a complementary function for bracket_balanced() checking function\n",
    "#This function is used to check whether the closing bracket found, matches with the \n",
    "#top element in the opening_bracket_stack or not\n",
    "def is_match(opening_bracket, closing_bracket):\n",
    "    if f'{opening_bracket}{closing_bracket}' in ['{}','[]','()']:\n",
    "        return True\n",
    "    else:\n",
    "        return False\n",
    "    \n",
    "\n",
    "def bracket_balanced(given_string):\n",
    "    opening_brackets_stack = Stack()\n",
    "    is_balanced = True   #is_balanced Boolean flag to keep changing the truth depending on following situations\n",
    "    #If this boolean flag stays True until the end, we know that the parantheses are properly balanced\n",
    "    #We have to make sure that the opening_brackets_stack is empty and the boolean flag is_balanced is True\n",
    "    #to make sure that the paranthesis balanced\n",
    "    #Otherwise it means that the parantheses are not balanced\n",
    "    \n",
    "    for i in given_string:\n",
    "        if is_balanced:  #Only run the function if the is_balanced flag is still True, else just break\n",
    "            \n",
    "            #if the substring is an opening bracket, push it into the stack\n",
    "            if i in '({[':\n",
    "                opening_brackets_stack.push(i) #Pushing the opening bracket found, into the stack\n",
    "                \n",
    "            #if the substring is a closing bracket, pop the stack and check if it pairs up with the pop item or not\n",
    "            #But if the stack is empty, it means a closing bracket was started before even putting an opening bracket\n",
    "            elif i in ']})':\n",
    "                if opening_brackets_stack.is_empty():\n",
    "                    is_balanced = False\n",
    "                else:\n",
    "                    if not is_match(opening_brackets_stack.pop(), i):\n",
    "                        is_balanced = False\n",
    "            else:\n",
    "                continue\n",
    "            \n",
    "        else:\n",
    "            break\n",
    "    \n",
    "    if opening_brackets_stack.is_empty() and is_balanced:\n",
    "        return True\n",
    "    else:\n",
    "        return False\n",
    "    \n",
    "      \n",
    "print(bracket_balanced(\"(((({}))))\"))\n",
    "print(bracket_balanced(\"[][]]]\"))\n",
    "print(bracket_balanced(\"hello\"))\n",
    "print(bracket_balanced(']'))"
   ]
  },
  {
   "cell_type": "code",
   "execution_count": null,
   "metadata": {},
   "outputs": [],
   "source": []
  },
  {
   "cell_type": "code",
   "execution_count": null,
   "metadata": {},
   "outputs": [],
   "source": []
  },
  {
   "cell_type": "markdown",
   "metadata": {},
   "source": [
    "## 2. Example use of Stack (Integer to Binary Conversion)\n",
    "Use a stack data structure to convert integer values to their corresponding binary representation.\n",
    "<PRE>\n",
    "Example : 242\n",
    "242 / 2 = 121 -> 0\n",
    "121 / 2 = 60  -> 1\n",
    "60 / 2  = 30  -> 0\n",
    "30 / 2  = 15  -> 0\n",
    "15 / 2  = 7   -> 1\n",
    "7 / 2 = 3     -> 1\n",
    "3 / 2 = 1     -> 1\n",
    "1 / 2 = 0\t  -> 1\n",
    "    \n"
   ]
  },
  {
   "cell_type": "markdown",
   "metadata": {},
   "source": [
    "### Solution (Logic behind it)\n",
    "<PRE>\n",
    "We are going to make use of a stack data structure to keep track of the remainders after dividing the integer by 2 in each step\n",
    "In Integer to binary conversion, we need to pick the remainders bottom up, it means we can pop the elements fromt the stack and read it. It will give us the binary conversion."
   ]
  },
  {
   "cell_type": "code",
   "execution_count": 62,
   "metadata": {},
   "outputs": [
    {
     "name": "stdout",
     "output_type": "stream",
     "text": [
      "11110010\n",
      "10101111\n"
     ]
    }
   ],
   "source": [
    "#import stack\n",
    "#If the stack was implemented on a separate file\n",
    "\n",
    "def int_to_bin(int_num):\n",
    "    rem_stack = Stack()\n",
    "    \n",
    "    #we have to divide the quotient until it becomes 0\n",
    "    #Note: we need to collect remainder first before dividing the quotient\n",
    "    #Otherwise, the division may override the value of quotient, i.e. int_num\n",
    "    while int_num != 0:\n",
    "        rem = int_num % 2\n",
    "        rem_stack.push(rem)\n",
    "        int_num //= 2\n",
    "        \n",
    "    #Collecting the remainders\n",
    "    #By popping from the stack and adding them to an empty stack\n",
    "    bin_num = ''\n",
    "    while not rem_stack.is_empty():\n",
    "        bin_num += str(rem_stack.pop())\n",
    "        \n",
    "    return bin_num\n",
    "\n",
    "print(int_to_bin(242))\n",
    "print(int_to_bin(175))"
   ]
  },
  {
   "cell_type": "code",
   "execution_count": null,
   "metadata": {},
   "outputs": [],
   "source": []
  }
 ],
 "metadata": {
  "kernelspec": {
   "display_name": "Python 3",
   "language": "python",
   "name": "python3"
  },
  "language_info": {
   "codemirror_mode": {
    "name": "ipython",
    "version": 3
   },
   "file_extension": ".py",
   "mimetype": "text/x-python",
   "name": "python",
   "nbconvert_exporter": "python",
   "pygments_lexer": "ipython3",
   "version": "3.8.3"
  }
 },
 "nbformat": 4,
 "nbformat_minor": 4
}
